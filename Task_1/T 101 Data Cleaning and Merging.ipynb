{
 "cells": [
  {
   "cell_type": "markdown",
   "metadata": {},
   "source": [
    "# T 101: Data Cleaning and Merging"
   ]
  },
  {
   "cell_type": "markdown",
   "metadata": {},
   "source": [
    "This notebook serves as the solution of first part of **Task 1: Data Preparation and Customer Analytics** of **Quantium Data Analytics Virtual Experience Program.**\n",
    "\n",
    "**The goal of this notebook is to clean the data, generate new variables and merge two dataframes into a single data frame.** The whole process will be performed in 2 phases\n",
    "\n",
    "- **Phase 1:** In the first phase, we will clean the dataset and generating new features from exisiting features. We will be deriving\n",
    "    - Brand Name\n",
    "    - Flavour\n",
    "    - Packet Size   \n",
    "    \n",
    "- **Phase 2:** Once we done with phase 1, we will move on to phase 2. In this, we will merge transaction and customer segment dataframe into a single datafrmae. This dataframe will be used in the next notebook for futher analysis \n",
    "\n",
    "\n",
    "In the next notebook, `T 102: Data Exploration, Analysis and Insights` we will explore and analyse the dataset and finally we will derive intersting and useful insights which could help Category Manager to target specific customer segments in prder to increase the sales,"
   ]
  },
  {
   "cell_type": "markdown",
   "metadata": {},
   "source": [
    "# Importing Libraries"
   ]
  },
  {
   "cell_type": "code",
   "execution_count": 115,
   "metadata": {},
   "outputs": [],
   "source": [
    "#To import the dataset as dataframe\n",
    "import pandas as pd\n",
    "\n",
    "#To play sound (typically used as an alarm for long code executions)\n",
    "from playsound import playsound #playsound(\"path\\Sound.mp3\")\n",
    "\n",
    "#To clear the output screen -> used in defined functions\n",
    "from IPython.display import clear_output\n",
    "\n",
    "#To not print warning messages\n",
    "import warnings\n",
    "warnings.filterwarnings(\"ignore\")"
   ]
  },
  {
   "cell_type": "markdown",
   "metadata": {},
   "source": [
    "# Loading Datatsets"
   ]
  },
  {
   "cell_type": "code",
   "execution_count": 36,
   "metadata": {},
   "outputs": [],
   "source": [
    "transations = pd.read_excel(\"C:/Users/amitm/Jupyter Notebools/Quantium/Task 1/QVI_transaction_data.xlsx\")\n",
    "behaviour = pd.read_csv(\"C:/Users/amitm/Jupyter Notebools/Quantium/Task 1/QVI_purchase_behaviour.csv\")\n",
    "\n",
    "playsound(\"C:/Users/amitm/Jupyter Notebools/Sound.mp3\")"
   ]
  },
  {
   "cell_type": "code",
   "execution_count": 37,
   "metadata": {},
   "outputs": [
    {
     "data": {
      "text/html": [
       "<div>\n",
       "<style scoped>\n",
       "    .dataframe tbody tr th:only-of-type {\n",
       "        vertical-align: middle;\n",
       "    }\n",
       "\n",
       "    .dataframe tbody tr th {\n",
       "        vertical-align: top;\n",
       "    }\n",
       "\n",
       "    .dataframe thead th {\n",
       "        text-align: right;\n",
       "    }\n",
       "</style>\n",
       "<table border=\"1\" class=\"dataframe\">\n",
       "  <thead>\n",
       "    <tr style=\"text-align: right;\">\n",
       "      <th></th>\n",
       "      <th>DATE</th>\n",
       "      <th>STORE_NBR</th>\n",
       "      <th>LYLTY_CARD_NBR</th>\n",
       "      <th>TXN_ID</th>\n",
       "      <th>PROD_NBR</th>\n",
       "      <th>PROD_NAME</th>\n",
       "      <th>PROD_QTY</th>\n",
       "      <th>TOT_SALES</th>\n",
       "    </tr>\n",
       "  </thead>\n",
       "  <tbody>\n",
       "    <tr>\n",
       "      <th>0</th>\n",
       "      <td>2018-10-17</td>\n",
       "      <td>1</td>\n",
       "      <td>1000</td>\n",
       "      <td>1</td>\n",
       "      <td>5</td>\n",
       "      <td>Natural Chip        Compny SeaSalt175g</td>\n",
       "      <td>2</td>\n",
       "      <td>6.0</td>\n",
       "    </tr>\n",
       "    <tr>\n",
       "      <th>1</th>\n",
       "      <td>2019-05-14</td>\n",
       "      <td>1</td>\n",
       "      <td>1307</td>\n",
       "      <td>348</td>\n",
       "      <td>66</td>\n",
       "      <td>CCs Nacho Cheese    175g</td>\n",
       "      <td>3</td>\n",
       "      <td>6.3</td>\n",
       "    </tr>\n",
       "    <tr>\n",
       "      <th>2</th>\n",
       "      <td>2019-05-20</td>\n",
       "      <td>1</td>\n",
       "      <td>1343</td>\n",
       "      <td>383</td>\n",
       "      <td>61</td>\n",
       "      <td>Smiths Crinkle Cut  Chips Chicken 170g</td>\n",
       "      <td>2</td>\n",
       "      <td>2.9</td>\n",
       "    </tr>\n",
       "    <tr>\n",
       "      <th>3</th>\n",
       "      <td>2018-08-17</td>\n",
       "      <td>2</td>\n",
       "      <td>2373</td>\n",
       "      <td>974</td>\n",
       "      <td>69</td>\n",
       "      <td>Smiths Chip Thinly  S/Cream&amp;Onion 175g</td>\n",
       "      <td>5</td>\n",
       "      <td>15.0</td>\n",
       "    </tr>\n",
       "    <tr>\n",
       "      <th>4</th>\n",
       "      <td>2018-08-18</td>\n",
       "      <td>2</td>\n",
       "      <td>2426</td>\n",
       "      <td>1038</td>\n",
       "      <td>108</td>\n",
       "      <td>Kettle Tortilla ChpsHny&amp;Jlpno Chili 150g</td>\n",
       "      <td>3</td>\n",
       "      <td>13.8</td>\n",
       "    </tr>\n",
       "  </tbody>\n",
       "</table>\n",
       "</div>"
      ],
      "text/plain": [
       "        DATE  STORE_NBR  LYLTY_CARD_NBR  TXN_ID  PROD_NBR  \\\n",
       "0 2018-10-17          1            1000       1         5   \n",
       "1 2019-05-14          1            1307     348        66   \n",
       "2 2019-05-20          1            1343     383        61   \n",
       "3 2018-08-17          2            2373     974        69   \n",
       "4 2018-08-18          2            2426    1038       108   \n",
       "\n",
       "                                  PROD_NAME  PROD_QTY  TOT_SALES  \n",
       "0    Natural Chip        Compny SeaSalt175g         2        6.0  \n",
       "1                  CCs Nacho Cheese    175g         3        6.3  \n",
       "2    Smiths Crinkle Cut  Chips Chicken 170g         2        2.9  \n",
       "3    Smiths Chip Thinly  S/Cream&Onion 175g         5       15.0  \n",
       "4  Kettle Tortilla ChpsHny&Jlpno Chili 150g         3       13.8  "
      ]
     },
     "execution_count": 37,
     "metadata": {},
     "output_type": "execute_result"
    }
   ],
   "source": [
    "transations.head()"
   ]
  },
  {
   "cell_type": "code",
   "execution_count": 38,
   "metadata": {
    "scrolled": true
   },
   "outputs": [
    {
     "data": {
      "text/html": [
       "<div>\n",
       "<style scoped>\n",
       "    .dataframe tbody tr th:only-of-type {\n",
       "        vertical-align: middle;\n",
       "    }\n",
       "\n",
       "    .dataframe tbody tr th {\n",
       "        vertical-align: top;\n",
       "    }\n",
       "\n",
       "    .dataframe thead th {\n",
       "        text-align: right;\n",
       "    }\n",
       "</style>\n",
       "<table border=\"1\" class=\"dataframe\">\n",
       "  <thead>\n",
       "    <tr style=\"text-align: right;\">\n",
       "      <th></th>\n",
       "      <th>LYLTY_CARD_NBR</th>\n",
       "      <th>LIFESTAGE</th>\n",
       "      <th>PREMIUM_CUSTOMER</th>\n",
       "    </tr>\n",
       "  </thead>\n",
       "  <tbody>\n",
       "    <tr>\n",
       "      <th>0</th>\n",
       "      <td>1000</td>\n",
       "      <td>YOUNG SINGLES/COUPLES</td>\n",
       "      <td>Premium</td>\n",
       "    </tr>\n",
       "    <tr>\n",
       "      <th>1</th>\n",
       "      <td>1002</td>\n",
       "      <td>YOUNG SINGLES/COUPLES</td>\n",
       "      <td>Mainstream</td>\n",
       "    </tr>\n",
       "    <tr>\n",
       "      <th>2</th>\n",
       "      <td>1003</td>\n",
       "      <td>YOUNG FAMILIES</td>\n",
       "      <td>Budget</td>\n",
       "    </tr>\n",
       "    <tr>\n",
       "      <th>3</th>\n",
       "      <td>1004</td>\n",
       "      <td>OLDER SINGLES/COUPLES</td>\n",
       "      <td>Mainstream</td>\n",
       "    </tr>\n",
       "    <tr>\n",
       "      <th>4</th>\n",
       "      <td>1005</td>\n",
       "      <td>MIDAGE SINGLES/COUPLES</td>\n",
       "      <td>Mainstream</td>\n",
       "    </tr>\n",
       "  </tbody>\n",
       "</table>\n",
       "</div>"
      ],
      "text/plain": [
       "   LYLTY_CARD_NBR               LIFESTAGE PREMIUM_CUSTOMER\n",
       "0            1000   YOUNG SINGLES/COUPLES          Premium\n",
       "1            1002   YOUNG SINGLES/COUPLES       Mainstream\n",
       "2            1003          YOUNG FAMILIES           Budget\n",
       "3            1004   OLDER SINGLES/COUPLES       Mainstream\n",
       "4            1005  MIDAGE SINGLES/COUPLES       Mainstream"
      ]
     },
     "execution_count": 38,
     "metadata": {},
     "output_type": "execute_result"
    }
   ],
   "source": [
    "behaviour.head()"
   ]
  },
  {
   "cell_type": "markdown",
   "metadata": {},
   "source": [
    "####  We can observe that datasets are loaded successfully"
   ]
  },
  {
   "cell_type": "markdown",
   "metadata": {},
   "source": [
    "> # Phase 1: Cleaning and Generating new Features"
   ]
  },
  {
   "cell_type": "code",
   "execution_count": 39,
   "metadata": {},
   "outputs": [
    {
     "data": {
      "text/plain": [
       "114"
      ]
     },
     "execution_count": 39,
     "metadata": {},
     "output_type": "execute_result"
    }
   ],
   "source": [
    "transations[\"PROD_NAME\"].nunique()"
   ]
  },
  {
   "cell_type": "code",
   "execution_count": 40,
   "metadata": {
    "scrolled": true
   },
   "outputs": [
    {
     "data": {
      "text/plain": [
       "114"
      ]
     },
     "execution_count": 40,
     "metadata": {},
     "output_type": "execute_result"
    }
   ],
   "source": [
    "transations[\"PROD_NBR\"].nunique()"
   ]
  },
  {
   "cell_type": "markdown",
   "metadata": {},
   "source": [
    "## Sub Task 1\n",
    "### Derive weight of the chips packets from product name"
   ]
  },
  {
   "cell_type": "code",
   "execution_count": 41,
   "metadata": {},
   "outputs": [],
   "source": [
    "transations[\"PROD_WT\"] = transations[\"PROD_NAME\"].str.slice(-4,-1)"
   ]
  },
  {
   "cell_type": "markdown",
   "metadata": {},
   "source": [
    "**We took last three elements (excluding last element) from product name to get the weight.**"
   ]
  },
  {
   "cell_type": "code",
   "execution_count": 46,
   "metadata": {
    "scrolled": false
   },
   "outputs": [
    {
     "data": {
      "text/html": [
       "<div>\n",
       "<style scoped>\n",
       "    .dataframe tbody tr th:only-of-type {\n",
       "        vertical-align: middle;\n",
       "    }\n",
       "\n",
       "    .dataframe tbody tr th {\n",
       "        vertical-align: top;\n",
       "    }\n",
       "\n",
       "    .dataframe thead th {\n",
       "        text-align: right;\n",
       "    }\n",
       "</style>\n",
       "<table border=\"1\" class=\"dataframe\">\n",
       "  <thead>\n",
       "    <tr style=\"text-align: right;\">\n",
       "      <th></th>\n",
       "      <th>DATE</th>\n",
       "      <th>STORE_NBR</th>\n",
       "      <th>LYLTY_CARD_NBR</th>\n",
       "      <th>TXN_ID</th>\n",
       "      <th>PROD_NBR</th>\n",
       "      <th>PROD_NAME</th>\n",
       "      <th>PROD_QTY</th>\n",
       "      <th>TOT_SALES</th>\n",
       "      <th>PROD_WT</th>\n",
       "    </tr>\n",
       "  </thead>\n",
       "  <tbody>\n",
       "    <tr>\n",
       "      <th>65</th>\n",
       "      <td>2019-05-20</td>\n",
       "      <td>83</td>\n",
       "      <td>83008</td>\n",
       "      <td>82099</td>\n",
       "      <td>63</td>\n",
       "      <td>Kettle 135g Swt Pot Sea Salt</td>\n",
       "      <td>2</td>\n",
       "      <td>8.4</td>\n",
       "      <td>Sal</td>\n",
       "    </tr>\n",
       "    <tr>\n",
       "      <th>153</th>\n",
       "      <td>2019-05-17</td>\n",
       "      <td>208</td>\n",
       "      <td>208139</td>\n",
       "      <td>206906</td>\n",
       "      <td>63</td>\n",
       "      <td>Kettle 135g Swt Pot Sea Salt</td>\n",
       "      <td>1</td>\n",
       "      <td>4.2</td>\n",
       "      <td>Sal</td>\n",
       "    </tr>\n",
       "    <tr>\n",
       "      <th>174</th>\n",
       "      <td>2018-08-20</td>\n",
       "      <td>237</td>\n",
       "      <td>237227</td>\n",
       "      <td>241132</td>\n",
       "      <td>63</td>\n",
       "      <td>Kettle 135g Swt Pot Sea Salt</td>\n",
       "      <td>2</td>\n",
       "      <td>8.4</td>\n",
       "      <td>Sal</td>\n",
       "    </tr>\n",
       "    <tr>\n",
       "      <th>177</th>\n",
       "      <td>2019-05-17</td>\n",
       "      <td>243</td>\n",
       "      <td>243070</td>\n",
       "      <td>246706</td>\n",
       "      <td>63</td>\n",
       "      <td>Kettle 135g Swt Pot Sea Salt</td>\n",
       "      <td>1</td>\n",
       "      <td>4.2</td>\n",
       "      <td>Sal</td>\n",
       "    </tr>\n",
       "    <tr>\n",
       "      <th>348</th>\n",
       "      <td>2018-10-26</td>\n",
       "      <td>7</td>\n",
       "      <td>7077</td>\n",
       "      <td>6604</td>\n",
       "      <td>63</td>\n",
       "      <td>Kettle 135g Swt Pot Sea Salt</td>\n",
       "      <td>2</td>\n",
       "      <td>8.4</td>\n",
       "      <td>Sal</td>\n",
       "    </tr>\n",
       "    <tr>\n",
       "      <th>...</th>\n",
       "      <td>...</td>\n",
       "      <td>...</td>\n",
       "      <td>...</td>\n",
       "      <td>...</td>\n",
       "      <td>...</td>\n",
       "      <td>...</td>\n",
       "      <td>...</td>\n",
       "      <td>...</td>\n",
       "      <td>...</td>\n",
       "    </tr>\n",
       "    <tr>\n",
       "      <th>264564</th>\n",
       "      <td>2018-10-08</td>\n",
       "      <td>260</td>\n",
       "      <td>260240</td>\n",
       "      <td>259480</td>\n",
       "      <td>63</td>\n",
       "      <td>Kettle 135g Swt Pot Sea Salt</td>\n",
       "      <td>2</td>\n",
       "      <td>8.4</td>\n",
       "      <td>Sal</td>\n",
       "    </tr>\n",
       "    <tr>\n",
       "      <th>264574</th>\n",
       "      <td>2019-06-12</td>\n",
       "      <td>261</td>\n",
       "      <td>261035</td>\n",
       "      <td>259860</td>\n",
       "      <td>63</td>\n",
       "      <td>Kettle 135g Swt Pot Sea Salt</td>\n",
       "      <td>2</td>\n",
       "      <td>8.4</td>\n",
       "      <td>Sal</td>\n",
       "    </tr>\n",
       "    <tr>\n",
       "      <th>264725</th>\n",
       "      <td>2018-07-20</td>\n",
       "      <td>266</td>\n",
       "      <td>266413</td>\n",
       "      <td>264246</td>\n",
       "      <td>63</td>\n",
       "      <td>Kettle 135g Swt Pot Sea Salt</td>\n",
       "      <td>1</td>\n",
       "      <td>4.2</td>\n",
       "      <td>Sal</td>\n",
       "    </tr>\n",
       "    <tr>\n",
       "      <th>264767</th>\n",
       "      <td>2019-06-08</td>\n",
       "      <td>269</td>\n",
       "      <td>269133</td>\n",
       "      <td>265839</td>\n",
       "      <td>63</td>\n",
       "      <td>Kettle 135g Swt Pot Sea Salt</td>\n",
       "      <td>2</td>\n",
       "      <td>8.4</td>\n",
       "      <td>Sal</td>\n",
       "    </tr>\n",
       "    <tr>\n",
       "      <th>264823</th>\n",
       "      <td>2019-03-17</td>\n",
       "      <td>272</td>\n",
       "      <td>272156</td>\n",
       "      <td>269855</td>\n",
       "      <td>63</td>\n",
       "      <td>Kettle 135g Swt Pot Sea Salt</td>\n",
       "      <td>2</td>\n",
       "      <td>8.4</td>\n",
       "      <td>Sal</td>\n",
       "    </tr>\n",
       "  </tbody>\n",
       "</table>\n",
       "<p>3257 rows × 9 columns</p>\n",
       "</div>"
      ],
      "text/plain": [
       "             DATE  STORE_NBR  LYLTY_CARD_NBR  TXN_ID  PROD_NBR  \\\n",
       "65     2019-05-20         83           83008   82099        63   \n",
       "153    2019-05-17        208          208139  206906        63   \n",
       "174    2018-08-20        237          237227  241132        63   \n",
       "177    2019-05-17        243          243070  246706        63   \n",
       "348    2018-10-26          7            7077    6604        63   \n",
       "...           ...        ...             ...     ...       ...   \n",
       "264564 2018-10-08        260          260240  259480        63   \n",
       "264574 2019-06-12        261          261035  259860        63   \n",
       "264725 2018-07-20        266          266413  264246        63   \n",
       "264767 2019-06-08        269          269133  265839        63   \n",
       "264823 2019-03-17        272          272156  269855        63   \n",
       "\n",
       "                           PROD_NAME  PROD_QTY  TOT_SALES PROD_WT  \n",
       "65      Kettle 135g Swt Pot Sea Salt         2        8.4     Sal  \n",
       "153     Kettle 135g Swt Pot Sea Salt         1        4.2     Sal  \n",
       "174     Kettle 135g Swt Pot Sea Salt         2        8.4     Sal  \n",
       "177     Kettle 135g Swt Pot Sea Salt         1        4.2     Sal  \n",
       "348     Kettle 135g Swt Pot Sea Salt         2        8.4     Sal  \n",
       "...                              ...       ...        ...     ...  \n",
       "264564  Kettle 135g Swt Pot Sea Salt         2        8.4     Sal  \n",
       "264574  Kettle 135g Swt Pot Sea Salt         2        8.4     Sal  \n",
       "264725  Kettle 135g Swt Pot Sea Salt         1        4.2     Sal  \n",
       "264767  Kettle 135g Swt Pot Sea Salt         2        8.4     Sal  \n",
       "264823  Kettle 135g Swt Pot Sea Salt         2        8.4     Sal  \n",
       "\n",
       "[3257 rows x 9 columns]"
      ]
     },
     "execution_count": 46,
     "metadata": {},
     "output_type": "execute_result"
    }
   ],
   "source": [
    "transations[transations[\"PROD_WT\"].str.contains(r\"[a-z,A-Z]\",regex=True)]"
   ]
  },
  {
   "cell_type": "code",
   "execution_count": 47,
   "metadata": {
    "scrolled": true
   },
   "outputs": [
    {
     "data": {
      "text/plain": [
       "array([63], dtype=int64)"
      ]
     },
     "execution_count": 47,
     "metadata": {},
     "output_type": "execute_result"
    }
   ],
   "source": [
    "transations[transations[\"PROD_WT\"].str.contains(r\"[a-z,A-Z]\",regex=True)][\"PROD_NBR\"].unique()"
   ]
  },
  {
   "cell_type": "markdown",
   "metadata": {},
   "source": [
    "**We can see that for product number 63, weight was given in between and not at the end**\n",
    "\n",
    "*Therefore, we need to update the correct weight corrosponding to product number 63*"
   ]
  },
  {
   "cell_type": "code",
   "execution_count": 95,
   "metadata": {},
   "outputs": [],
   "source": [
    "transations.loc[transations[\"PROD_NBR\"]==63,\"PROD_WT\"] = transations[transations[\"PROD_NBR\"]==63][\"PROD_NAME\"].str.slice(7,10)"
   ]
  },
  {
   "cell_type": "code",
   "execution_count": 99,
   "metadata": {},
   "outputs": [],
   "source": [
    "transations[\"PROD_WT\"] = transations[\"PROD_WT\"].astype(int)"
   ]
  },
  {
   "cell_type": "markdown",
   "metadata": {},
   "source": [
    "#### *Weight of the chips packets are derived Successfully*"
   ]
  },
  {
   "cell_type": "markdown",
   "metadata": {},
   "source": [
    "## Sub Task 2\n",
    "### Derive Brand Name of the chips packets from product name"
   ]
  },
  {
   "cell_type": "code",
   "execution_count": 103,
   "metadata": {},
   "outputs": [],
   "source": [
    "transations[\"BRAND_NAME\"] = transations[\"PROD_NAME\"].str.split(pat=\" \",n=1,expand=True)[0]"
   ]
  },
  {
   "cell_type": "code",
   "execution_count": 104,
   "metadata": {
    "scrolled": true
   },
   "outputs": [
    {
     "data": {
      "text/html": [
       "<div>\n",
       "<style scoped>\n",
       "    .dataframe tbody tr th:only-of-type {\n",
       "        vertical-align: middle;\n",
       "    }\n",
       "\n",
       "    .dataframe tbody tr th {\n",
       "        vertical-align: top;\n",
       "    }\n",
       "\n",
       "    .dataframe thead th {\n",
       "        text-align: right;\n",
       "    }\n",
       "</style>\n",
       "<table border=\"1\" class=\"dataframe\">\n",
       "  <thead>\n",
       "    <tr style=\"text-align: right;\">\n",
       "      <th></th>\n",
       "      <th>DATE</th>\n",
       "      <th>STORE_NBR</th>\n",
       "      <th>LYLTY_CARD_NBR</th>\n",
       "      <th>TXN_ID</th>\n",
       "      <th>PROD_NBR</th>\n",
       "      <th>PROD_NAME</th>\n",
       "      <th>PROD_QTY</th>\n",
       "      <th>TOT_SALES</th>\n",
       "      <th>PROD_WT</th>\n",
       "      <th>BRAND_NAME</th>\n",
       "    </tr>\n",
       "  </thead>\n",
       "  <tbody>\n",
       "    <tr>\n",
       "      <th>0</th>\n",
       "      <td>2018-10-17</td>\n",
       "      <td>1</td>\n",
       "      <td>1000</td>\n",
       "      <td>1</td>\n",
       "      <td>5</td>\n",
       "      <td>Natural Chip        Compny SeaSalt175g</td>\n",
       "      <td>2</td>\n",
       "      <td>6.0</td>\n",
       "      <td>175</td>\n",
       "      <td>Natural</td>\n",
       "    </tr>\n",
       "    <tr>\n",
       "      <th>1</th>\n",
       "      <td>2019-05-14</td>\n",
       "      <td>1</td>\n",
       "      <td>1307</td>\n",
       "      <td>348</td>\n",
       "      <td>66</td>\n",
       "      <td>CCs Nacho Cheese    175g</td>\n",
       "      <td>3</td>\n",
       "      <td>6.3</td>\n",
       "      <td>175</td>\n",
       "      <td>CCs</td>\n",
       "    </tr>\n",
       "    <tr>\n",
       "      <th>2</th>\n",
       "      <td>2019-05-20</td>\n",
       "      <td>1</td>\n",
       "      <td>1343</td>\n",
       "      <td>383</td>\n",
       "      <td>61</td>\n",
       "      <td>Smiths Crinkle Cut  Chips Chicken 170g</td>\n",
       "      <td>2</td>\n",
       "      <td>2.9</td>\n",
       "      <td>170</td>\n",
       "      <td>Smiths</td>\n",
       "    </tr>\n",
       "    <tr>\n",
       "      <th>3</th>\n",
       "      <td>2018-08-17</td>\n",
       "      <td>2</td>\n",
       "      <td>2373</td>\n",
       "      <td>974</td>\n",
       "      <td>69</td>\n",
       "      <td>Smiths Chip Thinly  S/Cream&amp;Onion 175g</td>\n",
       "      <td>5</td>\n",
       "      <td>15.0</td>\n",
       "      <td>175</td>\n",
       "      <td>Smiths</td>\n",
       "    </tr>\n",
       "    <tr>\n",
       "      <th>4</th>\n",
       "      <td>2018-08-18</td>\n",
       "      <td>2</td>\n",
       "      <td>2426</td>\n",
       "      <td>1038</td>\n",
       "      <td>108</td>\n",
       "      <td>Kettle Tortilla ChpsHny&amp;Jlpno Chili 150g</td>\n",
       "      <td>3</td>\n",
       "      <td>13.8</td>\n",
       "      <td>150</td>\n",
       "      <td>Kettle</td>\n",
       "    </tr>\n",
       "  </tbody>\n",
       "</table>\n",
       "</div>"
      ],
      "text/plain": [
       "        DATE  STORE_NBR  LYLTY_CARD_NBR  TXN_ID  PROD_NBR  \\\n",
       "0 2018-10-17          1            1000       1         5   \n",
       "1 2019-05-14          1            1307     348        66   \n",
       "2 2019-05-20          1            1343     383        61   \n",
       "3 2018-08-17          2            2373     974        69   \n",
       "4 2018-08-18          2            2426    1038       108   \n",
       "\n",
       "                                  PROD_NAME  PROD_QTY  TOT_SALES  PROD_WT  \\\n",
       "0    Natural Chip        Compny SeaSalt175g         2        6.0      175   \n",
       "1                  CCs Nacho Cheese    175g         3        6.3      175   \n",
       "2    Smiths Crinkle Cut  Chips Chicken 170g         2        2.9      170   \n",
       "3    Smiths Chip Thinly  S/Cream&Onion 175g         5       15.0      175   \n",
       "4  Kettle Tortilla ChpsHny&Jlpno Chili 150g         3       13.8      150   \n",
       "\n",
       "  BRAND_NAME  \n",
       "0    Natural  \n",
       "1        CCs  \n",
       "2     Smiths  \n",
       "3     Smiths  \n",
       "4     Kettle  "
      ]
     },
     "execution_count": 104,
     "metadata": {},
     "output_type": "execute_result"
    }
   ],
   "source": [
    "transations.head()"
   ]
  },
  {
   "cell_type": "code",
   "execution_count": 111,
   "metadata": {},
   "outputs": [
    {
     "data": {
      "text/plain": [
       "array(['Natural', 'CCs', 'Smiths', 'Kettle', 'Old', 'Grain', 'Doritos',\n",
       "       'Twisties', 'WW', 'Thins', 'Burger', 'NCC', 'Cheezels', 'Infzns',\n",
       "       'Red', 'Pringles', 'Dorito', 'Infuzions', 'Smith', 'GrnWves',\n",
       "       'Tyrrells', 'Cobs', 'Woolworths', 'French', 'RRD', 'Tostitos',\n",
       "       'Cheetos', 'Snbts', 'Sunbites'], dtype=object)"
      ]
     },
     "execution_count": 111,
     "metadata": {},
     "output_type": "execute_result"
    }
   ],
   "source": [
    "brands = transations[\"BRAND_NAME\"].unique()\n",
    "\n",
    "brands"
   ]
  },
  {
   "cell_type": "markdown",
   "metadata": {},
   "source": [
    "**We can observe that brands name were derived however there are some consistency issues in brand name**\n",
    "\n",
    "**Issues**: \n",
    "- Some brand names are spelt incorrectly\n",
    "- Brand name spelt differently for the same brand like Dorito and Doritos\n",
    "- Abbreviation are used for some brand names\n",
    "- Full names of the brands are not capurted\n",
    "\n",
    "*We need to fix all of the above issues and update the brand names correctly*"
   ]
  },
  {
   "cell_type": "code",
   "execution_count": 132,
   "metadata": {},
   "outputs": [],
   "source": [
    "def brands_check(data,brands):\n",
    "    \"\"\"\n",
    "    This functions takes two arguements data frame and list of all brand names\n",
    "    \n",
    "    It runs a loop on brand names and asks if changes are required\n",
    "    1: Changes required\n",
    "    0: Changes not required\n",
    "    e: Come out of the function\n",
    "    \n",
    "    When pressed 1, it asks for new name and user can input the correct brand name\n",
    "    \n",
    "    It returns the whole data frame with correct brand names stored in a new column\n",
    "    \"\"\"\n",
    "    \n",
    "    df = data.copy()\n",
    "    \n",
    "    for b in brands:\n",
    "        dff = df[df[\"BRAND_NAME\"] == b][[\"PROD_NAME\",\"BRAND_NAME\"]]\n",
    "        \n",
    "        clear_output()\n",
    "        print(dff)\n",
    "        \n",
    "        inp = input(\"Need Correction? (0/1): \")\n",
    "        if inp == \"e\":\n",
    "            return\n",
    "        elif inp == \"1\":\n",
    "            df.loc[df[\"BRAND_NAME\"]==b,\"Updated\"] = 1\n",
    "            name = input(\"Enter new name: \")\n",
    "            df.loc[df[\"BRAND_NAME\"]==b,\"BRAND_NAME\"] = name\n",
    "        else:\n",
    "            df.loc[df[\"BRAND_NAME\"]==b,\"Updated\"] = 0\n",
    "\n",
    "    return df"
   ]
  },
  {
   "cell_type": "code",
   "execution_count": 138,
   "metadata": {
    "scrolled": false
   },
   "outputs": [
    {
     "name": "stdout",
     "output_type": "stream",
     "text": [
      "                                       PROD_NAME BRAND_NAME\n",
      "224         Snbts Whlgrn Crisps Cheddr&Mstrd 90g   Sunbites\n",
      "333     Sunbites Whlegrn    Crisps Frch/Onin 90g   Sunbites\n",
      "414     Sunbites Whlegrn    Crisps Frch/Onin 90g   Sunbites\n",
      "493         Snbts Whlgrn Crisps Cheddr&Mstrd 90g   Sunbites\n",
      "525         Snbts Whlgrn Crisps Cheddr&Mstrd 90g   Sunbites\n",
      "...                                          ...        ...\n",
      "264751      Snbts Whlgrn Crisps Cheddr&Mstrd 90g   Sunbites\n",
      "264786      Snbts Whlgrn Crisps Cheddr&Mstrd 90g   Sunbites\n",
      "264791  Sunbites Whlegrn    Crisps Frch/Onin 90g   Sunbites\n",
      "264802  Sunbites Whlegrn    Crisps Frch/Onin 90g   Sunbites\n",
      "264817  Sunbites Whlegrn    Crisps Frch/Onin 90g   Sunbites\n",
      "\n",
      "[3008 rows x 2 columns]\n",
      "Need Correction? (0/1): 1\n",
      "Enter new name: Sunbites\n"
     ]
    }
   ],
   "source": [
    "df = brands_check(transations,brands)"
   ]
  },
  {
   "cell_type": "code",
   "execution_count": 141,
   "metadata": {},
   "outputs": [
    {
     "data": {
      "text/html": [
       "<div>\n",
       "<style scoped>\n",
       "    .dataframe tbody tr th:only-of-type {\n",
       "        vertical-align: middle;\n",
       "    }\n",
       "\n",
       "    .dataframe tbody tr th {\n",
       "        vertical-align: top;\n",
       "    }\n",
       "\n",
       "    .dataframe thead th {\n",
       "        text-align: right;\n",
       "    }\n",
       "</style>\n",
       "<table border=\"1\" class=\"dataframe\">\n",
       "  <thead>\n",
       "    <tr style=\"text-align: right;\">\n",
       "      <th></th>\n",
       "      <th>DATE</th>\n",
       "      <th>STORE_NBR</th>\n",
       "      <th>LYLTY_CARD_NBR</th>\n",
       "      <th>TXN_ID</th>\n",
       "      <th>PROD_NBR</th>\n",
       "      <th>PROD_NAME</th>\n",
       "      <th>PROD_QTY</th>\n",
       "      <th>TOT_SALES</th>\n",
       "      <th>PROD_WT</th>\n",
       "      <th>BRAND_NAME</th>\n",
       "      <th>Updated</th>\n",
       "    </tr>\n",
       "  </thead>\n",
       "  <tbody>\n",
       "    <tr>\n",
       "      <th>0</th>\n",
       "      <td>2018-10-17</td>\n",
       "      <td>1</td>\n",
       "      <td>1000</td>\n",
       "      <td>1</td>\n",
       "      <td>5</td>\n",
       "      <td>Natural Chip        Compny SeaSalt175g</td>\n",
       "      <td>2</td>\n",
       "      <td>6.0</td>\n",
       "      <td>175</td>\n",
       "      <td>Naturals</td>\n",
       "      <td>1.0</td>\n",
       "    </tr>\n",
       "    <tr>\n",
       "      <th>1</th>\n",
       "      <td>2019-05-14</td>\n",
       "      <td>1</td>\n",
       "      <td>1307</td>\n",
       "      <td>348</td>\n",
       "      <td>66</td>\n",
       "      <td>CCs Nacho Cheese    175g</td>\n",
       "      <td>3</td>\n",
       "      <td>6.3</td>\n",
       "      <td>175</td>\n",
       "      <td>Corn Chips</td>\n",
       "      <td>1.0</td>\n",
       "    </tr>\n",
       "    <tr>\n",
       "      <th>2</th>\n",
       "      <td>2019-05-20</td>\n",
       "      <td>1</td>\n",
       "      <td>1343</td>\n",
       "      <td>383</td>\n",
       "      <td>61</td>\n",
       "      <td>Smiths Crinkle Cut  Chips Chicken 170g</td>\n",
       "      <td>2</td>\n",
       "      <td>2.9</td>\n",
       "      <td>170</td>\n",
       "      <td>Smiths</td>\n",
       "      <td>0.0</td>\n",
       "    </tr>\n",
       "    <tr>\n",
       "      <th>3</th>\n",
       "      <td>2018-08-17</td>\n",
       "      <td>2</td>\n",
       "      <td>2373</td>\n",
       "      <td>974</td>\n",
       "      <td>69</td>\n",
       "      <td>Smiths Chip Thinly  S/Cream&amp;Onion 175g</td>\n",
       "      <td>5</td>\n",
       "      <td>15.0</td>\n",
       "      <td>175</td>\n",
       "      <td>Smiths</td>\n",
       "      <td>0.0</td>\n",
       "    </tr>\n",
       "    <tr>\n",
       "      <th>4</th>\n",
       "      <td>2018-08-18</td>\n",
       "      <td>2</td>\n",
       "      <td>2426</td>\n",
       "      <td>1038</td>\n",
       "      <td>108</td>\n",
       "      <td>Kettle Tortilla ChpsHny&amp;Jlpno Chili 150g</td>\n",
       "      <td>3</td>\n",
       "      <td>13.8</td>\n",
       "      <td>150</td>\n",
       "      <td>Kettle</td>\n",
       "      <td>0.0</td>\n",
       "    </tr>\n",
       "  </tbody>\n",
       "</table>\n",
       "</div>"
      ],
      "text/plain": [
       "        DATE  STORE_NBR  LYLTY_CARD_NBR  TXN_ID  PROD_NBR  \\\n",
       "0 2018-10-17          1            1000       1         5   \n",
       "1 2019-05-14          1            1307     348        66   \n",
       "2 2019-05-20          1            1343     383        61   \n",
       "3 2018-08-17          2            2373     974        69   \n",
       "4 2018-08-18          2            2426    1038       108   \n",
       "\n",
       "                                  PROD_NAME  PROD_QTY  TOT_SALES  PROD_WT  \\\n",
       "0    Natural Chip        Compny SeaSalt175g         2        6.0      175   \n",
       "1                  CCs Nacho Cheese    175g         3        6.3      175   \n",
       "2    Smiths Crinkle Cut  Chips Chicken 170g         2        2.9      170   \n",
       "3    Smiths Chip Thinly  S/Cream&Onion 175g         5       15.0      175   \n",
       "4  Kettle Tortilla ChpsHny&Jlpno Chili 150g         3       13.8      150   \n",
       "\n",
       "   BRAND_NAME  Updated  \n",
       "0    Naturals      1.0  \n",
       "1  Corn Chips      1.0  \n",
       "2      Smiths      0.0  \n",
       "3      Smiths      0.0  \n",
       "4      Kettle      0.0  "
      ]
     },
     "execution_count": 141,
     "metadata": {},
     "output_type": "execute_result"
    }
   ],
   "source": [
    "df.head()"
   ]
  },
  {
   "cell_type": "code",
   "execution_count": 142,
   "metadata": {
    "scrolled": false
   },
   "outputs": [
    {
     "data": {
      "text/plain": [
       "Kettle           41288\n",
       "Smiths           31823\n",
       "Doritos          28147\n",
       "Pringles         25102\n",
       "Red Rock Deli    17779\n",
       "Woolworths       14757\n",
       "Infuzions        14201\n",
       "Thins            14075\n",
       "Cobs              9693\n",
       "Tostitos          9471\n",
       "Twisties          9454\n",
       "Old El Paso       9324\n",
       "Grain Waves       7740\n",
       "Naturals          7469\n",
       "Tyrrells          6442\n",
       "Cheezels          4603\n",
       "Corn Chips        4551\n",
       "Sunbites          3008\n",
       "Cheetos           2927\n",
       "Burger Rings      1564\n",
       "French Fries      1418\n",
       "Name: BRAND_NAME, dtype: int64"
      ]
     },
     "execution_count": 142,
     "metadata": {},
     "output_type": "execute_result"
    }
   ],
   "source": [
    "df[\"BRAND_NAME\"].value_counts()"
   ]
  },
  {
   "cell_type": "markdown",
   "metadata": {},
   "source": [
    "#### *Brand Name of the chips are derived Successfully*"
   ]
  },
  {
   "cell_type": "markdown",
   "metadata": {},
   "source": [
    "## Sub Task 3\n",
    "### Derive Flavour of the chips packets from product name"
   ]
  },
  {
   "cell_type": "code",
   "execution_count": 144,
   "metadata": {},
   "outputs": [],
   "source": [
    "transations = df.copy()"
   ]
  },
  {
   "cell_type": "code",
   "execution_count": 154,
   "metadata": {},
   "outputs": [],
   "source": [
    "def flavour_check(data,flavours):\n",
    "    \"\"\"\n",
    "    This function takes two arguments, data frame and list of all flavours (unique product name)\n",
    "    \n",
    "    It run a for loop on flavours and shows product name column from the dataframe\n",
    "    \n",
    "    It then ask the user name of the flavour and user can enter it\n",
    "    \n",
    "    Finally it returns the whole dataframe with the correct flavour names stored in a new column \n",
    "    \n",
    "    \"\"\"\n",
    "    \n",
    "    df = data.copy()\n",
    "    \n",
    "    for f in flavours:\n",
    "        dff = df[df[\"PROD_NAME\"] == f][\"PROD_NAME\"]\n",
    "        \n",
    "        clear_output()\n",
    "        print(dff)\n",
    "        \n",
    "        inp = input(\"Enter Flavour: \")\n",
    "        if inp == \"e\":\n",
    "            return df\n",
    "        else:\n",
    "            df.loc[df[\"PROD_NAME\"]==f,\"Flavour\"] = inp\n",
    "\n",
    "    return df"
   ]
  },
  {
   "cell_type": "code",
   "execution_count": 155,
   "metadata": {},
   "outputs": [
    {
     "name": "stdout",
     "output_type": "stream",
     "text": [
      "689       Doritos Salsa Mild  300g\n",
      "913       Doritos Salsa Mild  300g\n",
      "1459      Doritos Salsa Mild  300g\n",
      "1474      Doritos Salsa Mild  300g\n",
      "1581      Doritos Salsa Mild  300g\n",
      "                    ...           \n",
      "264343    Doritos Salsa Mild  300g\n",
      "264346    Doritos Salsa Mild  300g\n",
      "264528    Doritos Salsa Mild  300g\n",
      "264655    Doritos Salsa Mild  300g\n",
      "264734    Doritos Salsa Mild  300g\n",
      "Name: PROD_NAME, Length: 1472, dtype: object\n",
      "Enter Flavour: Salsa Mild\n"
     ]
    }
   ],
   "source": [
    "flav = transations[\"PROD_NAME\"].unique()\n",
    "\n",
    "df = flavour_check(transations,flav)"
   ]
  },
  {
   "cell_type": "code",
   "execution_count": 156,
   "metadata": {},
   "outputs": [
    {
     "data": {
      "text/html": [
       "<div>\n",
       "<style scoped>\n",
       "    .dataframe tbody tr th:only-of-type {\n",
       "        vertical-align: middle;\n",
       "    }\n",
       "\n",
       "    .dataframe tbody tr th {\n",
       "        vertical-align: top;\n",
       "    }\n",
       "\n",
       "    .dataframe thead th {\n",
       "        text-align: right;\n",
       "    }\n",
       "</style>\n",
       "<table border=\"1\" class=\"dataframe\">\n",
       "  <thead>\n",
       "    <tr style=\"text-align: right;\">\n",
       "      <th></th>\n",
       "      <th>DATE</th>\n",
       "      <th>STORE_NBR</th>\n",
       "      <th>LYLTY_CARD_NBR</th>\n",
       "      <th>TXN_ID</th>\n",
       "      <th>PROD_NBR</th>\n",
       "      <th>PROD_NAME</th>\n",
       "      <th>PROD_QTY</th>\n",
       "      <th>TOT_SALES</th>\n",
       "      <th>PROD_WT</th>\n",
       "      <th>BRAND_NAME</th>\n",
       "      <th>Updated</th>\n",
       "      <th>Flavour</th>\n",
       "    </tr>\n",
       "  </thead>\n",
       "  <tbody>\n",
       "    <tr>\n",
       "      <th>0</th>\n",
       "      <td>2018-10-17</td>\n",
       "      <td>1</td>\n",
       "      <td>1000</td>\n",
       "      <td>1</td>\n",
       "      <td>5</td>\n",
       "      <td>Natural Chip        Compny SeaSalt175g</td>\n",
       "      <td>2</td>\n",
       "      <td>6.0</td>\n",
       "      <td>175</td>\n",
       "      <td>Naturals</td>\n",
       "      <td>1.0</td>\n",
       "      <td>Sea Salt</td>\n",
       "    </tr>\n",
       "    <tr>\n",
       "      <th>1</th>\n",
       "      <td>2019-05-14</td>\n",
       "      <td>1</td>\n",
       "      <td>1307</td>\n",
       "      <td>348</td>\n",
       "      <td>66</td>\n",
       "      <td>CCs Nacho Cheese    175g</td>\n",
       "      <td>3</td>\n",
       "      <td>6.3</td>\n",
       "      <td>175</td>\n",
       "      <td>Corn Chips</td>\n",
       "      <td>1.0</td>\n",
       "      <td>Nacho Cheese</td>\n",
       "    </tr>\n",
       "    <tr>\n",
       "      <th>2</th>\n",
       "      <td>2019-05-20</td>\n",
       "      <td>1</td>\n",
       "      <td>1343</td>\n",
       "      <td>383</td>\n",
       "      <td>61</td>\n",
       "      <td>Smiths Crinkle Cut  Chips Chicken 170g</td>\n",
       "      <td>2</td>\n",
       "      <td>2.9</td>\n",
       "      <td>170</td>\n",
       "      <td>Smiths</td>\n",
       "      <td>0.0</td>\n",
       "      <td>Chicken</td>\n",
       "    </tr>\n",
       "    <tr>\n",
       "      <th>3</th>\n",
       "      <td>2018-08-17</td>\n",
       "      <td>2</td>\n",
       "      <td>2373</td>\n",
       "      <td>974</td>\n",
       "      <td>69</td>\n",
       "      <td>Smiths Chip Thinly  S/Cream&amp;Onion 175g</td>\n",
       "      <td>5</td>\n",
       "      <td>15.0</td>\n",
       "      <td>175</td>\n",
       "      <td>Smiths</td>\n",
       "      <td>0.0</td>\n",
       "      <td>Sour Cream &amp; Onion</td>\n",
       "    </tr>\n",
       "    <tr>\n",
       "      <th>4</th>\n",
       "      <td>2018-08-18</td>\n",
       "      <td>2</td>\n",
       "      <td>2426</td>\n",
       "      <td>1038</td>\n",
       "      <td>108</td>\n",
       "      <td>Kettle Tortilla ChpsHny&amp;Jlpno Chili 150g</td>\n",
       "      <td>3</td>\n",
       "      <td>13.8</td>\n",
       "      <td>150</td>\n",
       "      <td>Kettle</td>\n",
       "      <td>0.0</td>\n",
       "      <td>Chilli &amp; Honey</td>\n",
       "    </tr>\n",
       "  </tbody>\n",
       "</table>\n",
       "</div>"
      ],
      "text/plain": [
       "        DATE  STORE_NBR  LYLTY_CARD_NBR  TXN_ID  PROD_NBR  \\\n",
       "0 2018-10-17          1            1000       1         5   \n",
       "1 2019-05-14          1            1307     348        66   \n",
       "2 2019-05-20          1            1343     383        61   \n",
       "3 2018-08-17          2            2373     974        69   \n",
       "4 2018-08-18          2            2426    1038       108   \n",
       "\n",
       "                                  PROD_NAME  PROD_QTY  TOT_SALES  PROD_WT  \\\n",
       "0    Natural Chip        Compny SeaSalt175g         2        6.0      175   \n",
       "1                  CCs Nacho Cheese    175g         3        6.3      175   \n",
       "2    Smiths Crinkle Cut  Chips Chicken 170g         2        2.9      170   \n",
       "3    Smiths Chip Thinly  S/Cream&Onion 175g         5       15.0      175   \n",
       "4  Kettle Tortilla ChpsHny&Jlpno Chili 150g         3       13.8      150   \n",
       "\n",
       "   BRAND_NAME  Updated             Flavour  \n",
       "0    Naturals      1.0            Sea Salt  \n",
       "1  Corn Chips      1.0        Nacho Cheese  \n",
       "2      Smiths      0.0             Chicken  \n",
       "3      Smiths      0.0  Sour Cream & Onion  \n",
       "4      Kettle      0.0      Chilli & Honey  "
      ]
     },
     "execution_count": 156,
     "metadata": {},
     "output_type": "execute_result"
    }
   ],
   "source": [
    "df.head()"
   ]
  },
  {
   "cell_type": "code",
   "execution_count": 158,
   "metadata": {},
   "outputs": [],
   "source": [
    "df.drop(\"Updated\",axis=1,inplace=True)"
   ]
  },
  {
   "cell_type": "code",
   "execution_count": 159,
   "metadata": {},
   "outputs": [
    {
     "data": {
      "text/html": [
       "<div>\n",
       "<style scoped>\n",
       "    .dataframe tbody tr th:only-of-type {\n",
       "        vertical-align: middle;\n",
       "    }\n",
       "\n",
       "    .dataframe tbody tr th {\n",
       "        vertical-align: top;\n",
       "    }\n",
       "\n",
       "    .dataframe thead th {\n",
       "        text-align: right;\n",
       "    }\n",
       "</style>\n",
       "<table border=\"1\" class=\"dataframe\">\n",
       "  <thead>\n",
       "    <tr style=\"text-align: right;\">\n",
       "      <th></th>\n",
       "      <th>DATE</th>\n",
       "      <th>STORE_NBR</th>\n",
       "      <th>LYLTY_CARD_NBR</th>\n",
       "      <th>TXN_ID</th>\n",
       "      <th>PROD_NBR</th>\n",
       "      <th>PROD_NAME</th>\n",
       "      <th>PROD_QTY</th>\n",
       "      <th>TOT_SALES</th>\n",
       "      <th>PROD_WT</th>\n",
       "      <th>BRAND_NAME</th>\n",
       "      <th>Flavour</th>\n",
       "    </tr>\n",
       "  </thead>\n",
       "  <tbody>\n",
       "    <tr>\n",
       "      <th>0</th>\n",
       "      <td>2018-10-17</td>\n",
       "      <td>1</td>\n",
       "      <td>1000</td>\n",
       "      <td>1</td>\n",
       "      <td>5</td>\n",
       "      <td>Natural Chip        Compny SeaSalt175g</td>\n",
       "      <td>2</td>\n",
       "      <td>6.0</td>\n",
       "      <td>175</td>\n",
       "      <td>Naturals</td>\n",
       "      <td>Sea Salt</td>\n",
       "    </tr>\n",
       "    <tr>\n",
       "      <th>1</th>\n",
       "      <td>2019-05-14</td>\n",
       "      <td>1</td>\n",
       "      <td>1307</td>\n",
       "      <td>348</td>\n",
       "      <td>66</td>\n",
       "      <td>CCs Nacho Cheese    175g</td>\n",
       "      <td>3</td>\n",
       "      <td>6.3</td>\n",
       "      <td>175</td>\n",
       "      <td>Corn Chips</td>\n",
       "      <td>Nacho Cheese</td>\n",
       "    </tr>\n",
       "    <tr>\n",
       "      <th>2</th>\n",
       "      <td>2019-05-20</td>\n",
       "      <td>1</td>\n",
       "      <td>1343</td>\n",
       "      <td>383</td>\n",
       "      <td>61</td>\n",
       "      <td>Smiths Crinkle Cut  Chips Chicken 170g</td>\n",
       "      <td>2</td>\n",
       "      <td>2.9</td>\n",
       "      <td>170</td>\n",
       "      <td>Smiths</td>\n",
       "      <td>Chicken</td>\n",
       "    </tr>\n",
       "    <tr>\n",
       "      <th>3</th>\n",
       "      <td>2018-08-17</td>\n",
       "      <td>2</td>\n",
       "      <td>2373</td>\n",
       "      <td>974</td>\n",
       "      <td>69</td>\n",
       "      <td>Smiths Chip Thinly  S/Cream&amp;Onion 175g</td>\n",
       "      <td>5</td>\n",
       "      <td>15.0</td>\n",
       "      <td>175</td>\n",
       "      <td>Smiths</td>\n",
       "      <td>Sour Cream &amp; Onion</td>\n",
       "    </tr>\n",
       "    <tr>\n",
       "      <th>4</th>\n",
       "      <td>2018-08-18</td>\n",
       "      <td>2</td>\n",
       "      <td>2426</td>\n",
       "      <td>1038</td>\n",
       "      <td>108</td>\n",
       "      <td>Kettle Tortilla ChpsHny&amp;Jlpno Chili 150g</td>\n",
       "      <td>3</td>\n",
       "      <td>13.8</td>\n",
       "      <td>150</td>\n",
       "      <td>Kettle</td>\n",
       "      <td>Chilli &amp; Honey</td>\n",
       "    </tr>\n",
       "  </tbody>\n",
       "</table>\n",
       "</div>"
      ],
      "text/plain": [
       "        DATE  STORE_NBR  LYLTY_CARD_NBR  TXN_ID  PROD_NBR  \\\n",
       "0 2018-10-17          1            1000       1         5   \n",
       "1 2019-05-14          1            1307     348        66   \n",
       "2 2019-05-20          1            1343     383        61   \n",
       "3 2018-08-17          2            2373     974        69   \n",
       "4 2018-08-18          2            2426    1038       108   \n",
       "\n",
       "                                  PROD_NAME  PROD_QTY  TOT_SALES  PROD_WT  \\\n",
       "0    Natural Chip        Compny SeaSalt175g         2        6.0      175   \n",
       "1                  CCs Nacho Cheese    175g         3        6.3      175   \n",
       "2    Smiths Crinkle Cut  Chips Chicken 170g         2        2.9      170   \n",
       "3    Smiths Chip Thinly  S/Cream&Onion 175g         5       15.0      175   \n",
       "4  Kettle Tortilla ChpsHny&Jlpno Chili 150g         3       13.8      150   \n",
       "\n",
       "   BRAND_NAME             Flavour  \n",
       "0    Naturals            Sea Salt  \n",
       "1  Corn Chips        Nacho Cheese  \n",
       "2      Smiths             Chicken  \n",
       "3      Smiths  Sour Cream & Onion  \n",
       "4      Kettle      Chilli & Honey  "
      ]
     },
     "execution_count": 159,
     "metadata": {},
     "output_type": "execute_result"
    }
   ],
   "source": [
    "df.head()"
   ]
  },
  {
   "cell_type": "markdown",
   "metadata": {},
   "source": [
    "#### *Flavour of the chips packets are derived Successfully*"
   ]
  },
  {
   "cell_type": "markdown",
   "metadata": {},
   "source": [
    "> # Phase 2: Merging Dataframes\n",
    "\n",
    "Finally we are merging the dataframe we got above with customer behaviour dataframe and create a single dataframe"
   ]
  },
  {
   "cell_type": "code",
   "execution_count": 165,
   "metadata": {},
   "outputs": [],
   "source": [
    "#merging df and behaviour dataset on LYLTY_CARD_NBR and making single dataset\n",
    "\n",
    "data = df.merge(behaviour,on=\"LYLTY_CARD_NBR\")"
   ]
  },
  {
   "cell_type": "code",
   "execution_count": 166,
   "metadata": {},
   "outputs": [
    {
     "data": {
      "text/html": [
       "<div>\n",
       "<style scoped>\n",
       "    .dataframe tbody tr th:only-of-type {\n",
       "        vertical-align: middle;\n",
       "    }\n",
       "\n",
       "    .dataframe tbody tr th {\n",
       "        vertical-align: top;\n",
       "    }\n",
       "\n",
       "    .dataframe thead th {\n",
       "        text-align: right;\n",
       "    }\n",
       "</style>\n",
       "<table border=\"1\" class=\"dataframe\">\n",
       "  <thead>\n",
       "    <tr style=\"text-align: right;\">\n",
       "      <th></th>\n",
       "      <th>DATE</th>\n",
       "      <th>STORE_NBR</th>\n",
       "      <th>LYLTY_CARD_NBR</th>\n",
       "      <th>TXN_ID</th>\n",
       "      <th>PROD_NBR</th>\n",
       "      <th>PROD_NAME</th>\n",
       "      <th>PROD_QTY</th>\n",
       "      <th>TOT_SALES</th>\n",
       "      <th>PROD_WT</th>\n",
       "      <th>BRAND_NAME</th>\n",
       "      <th>Flavour</th>\n",
       "      <th>LIFESTAGE</th>\n",
       "      <th>PREMIUM_CUSTOMER</th>\n",
       "    </tr>\n",
       "  </thead>\n",
       "  <tbody>\n",
       "    <tr>\n",
       "      <th>0</th>\n",
       "      <td>2018-10-17</td>\n",
       "      <td>1</td>\n",
       "      <td>1000</td>\n",
       "      <td>1</td>\n",
       "      <td>5</td>\n",
       "      <td>Natural Chip        Compny SeaSalt175g</td>\n",
       "      <td>2</td>\n",
       "      <td>6.0</td>\n",
       "      <td>175</td>\n",
       "      <td>Naturals</td>\n",
       "      <td>Sea Salt</td>\n",
       "      <td>YOUNG SINGLES/COUPLES</td>\n",
       "      <td>Premium</td>\n",
       "    </tr>\n",
       "    <tr>\n",
       "      <th>1</th>\n",
       "      <td>2019-05-14</td>\n",
       "      <td>1</td>\n",
       "      <td>1307</td>\n",
       "      <td>348</td>\n",
       "      <td>66</td>\n",
       "      <td>CCs Nacho Cheese    175g</td>\n",
       "      <td>3</td>\n",
       "      <td>6.3</td>\n",
       "      <td>175</td>\n",
       "      <td>Corn Chips</td>\n",
       "      <td>Nacho Cheese</td>\n",
       "      <td>MIDAGE SINGLES/COUPLES</td>\n",
       "      <td>Budget</td>\n",
       "    </tr>\n",
       "    <tr>\n",
       "      <th>2</th>\n",
       "      <td>2018-11-10</td>\n",
       "      <td>1</td>\n",
       "      <td>1307</td>\n",
       "      <td>346</td>\n",
       "      <td>96</td>\n",
       "      <td>WW Original Stacked Chips 160g</td>\n",
       "      <td>2</td>\n",
       "      <td>3.8</td>\n",
       "      <td>160</td>\n",
       "      <td>Woolworths</td>\n",
       "      <td>Original Stacked</td>\n",
       "      <td>MIDAGE SINGLES/COUPLES</td>\n",
       "      <td>Budget</td>\n",
       "    </tr>\n",
       "    <tr>\n",
       "      <th>3</th>\n",
       "      <td>2019-03-09</td>\n",
       "      <td>1</td>\n",
       "      <td>1307</td>\n",
       "      <td>347</td>\n",
       "      <td>54</td>\n",
       "      <td>CCs Original 175g</td>\n",
       "      <td>1</td>\n",
       "      <td>2.1</td>\n",
       "      <td>175</td>\n",
       "      <td>Corn Chips</td>\n",
       "      <td>Original</td>\n",
       "      <td>MIDAGE SINGLES/COUPLES</td>\n",
       "      <td>Budget</td>\n",
       "    </tr>\n",
       "    <tr>\n",
       "      <th>4</th>\n",
       "      <td>2019-05-20</td>\n",
       "      <td>1</td>\n",
       "      <td>1343</td>\n",
       "      <td>383</td>\n",
       "      <td>61</td>\n",
       "      <td>Smiths Crinkle Cut  Chips Chicken 170g</td>\n",
       "      <td>2</td>\n",
       "      <td>2.9</td>\n",
       "      <td>170</td>\n",
       "      <td>Smiths</td>\n",
       "      <td>Chicken</td>\n",
       "      <td>MIDAGE SINGLES/COUPLES</td>\n",
       "      <td>Budget</td>\n",
       "    </tr>\n",
       "  </tbody>\n",
       "</table>\n",
       "</div>"
      ],
      "text/plain": [
       "        DATE  STORE_NBR  LYLTY_CARD_NBR  TXN_ID  PROD_NBR  \\\n",
       "0 2018-10-17          1            1000       1         5   \n",
       "1 2019-05-14          1            1307     348        66   \n",
       "2 2018-11-10          1            1307     346        96   \n",
       "3 2019-03-09          1            1307     347        54   \n",
       "4 2019-05-20          1            1343     383        61   \n",
       "\n",
       "                                PROD_NAME  PROD_QTY  TOT_SALES  PROD_WT  \\\n",
       "0  Natural Chip        Compny SeaSalt175g         2        6.0      175   \n",
       "1                CCs Nacho Cheese    175g         3        6.3      175   \n",
       "2          WW Original Stacked Chips 160g         2        3.8      160   \n",
       "3                       CCs Original 175g         1        2.1      175   \n",
       "4  Smiths Crinkle Cut  Chips Chicken 170g         2        2.9      170   \n",
       "\n",
       "   BRAND_NAME           Flavour               LIFESTAGE PREMIUM_CUSTOMER  \n",
       "0    Naturals          Sea Salt   YOUNG SINGLES/COUPLES          Premium  \n",
       "1  Corn Chips      Nacho Cheese  MIDAGE SINGLES/COUPLES           Budget  \n",
       "2  Woolworths  Original Stacked  MIDAGE SINGLES/COUPLES           Budget  \n",
       "3  Corn Chips          Original  MIDAGE SINGLES/COUPLES           Budget  \n",
       "4      Smiths           Chicken  MIDAGE SINGLES/COUPLES           Budget  "
      ]
     },
     "execution_count": 166,
     "metadata": {},
     "output_type": "execute_result"
    }
   ],
   "source": [
    "data.head()"
   ]
  },
  {
   "cell_type": "code",
   "execution_count": 167,
   "metadata": {},
   "outputs": [
    {
     "data": {
      "text/plain": [
       "(264836, 13)"
      ]
     },
     "execution_count": 167,
     "metadata": {},
     "output_type": "execute_result"
    }
   ],
   "source": [
    "data.shape"
   ]
  },
  {
   "cell_type": "code",
   "execution_count": 168,
   "metadata": {
    "scrolled": true
   },
   "outputs": [
    {
     "data": {
      "text/plain": [
       "(264836, 11)"
      ]
     },
     "execution_count": 168,
     "metadata": {},
     "output_type": "execute_result"
    }
   ],
   "source": [
    "df.shape"
   ]
  },
  {
   "cell_type": "code",
   "execution_count": 170,
   "metadata": {
    "scrolled": true
   },
   "outputs": [
    {
     "data": {
      "text/plain": [
       "DATE              0\n",
       "STORE_NBR         0\n",
       "LYLTY_CARD_NBR    0\n",
       "TXN_ID            0\n",
       "PROD_NBR          0\n",
       "PROD_NAME         0\n",
       "PROD_QTY          0\n",
       "TOT_SALES         0\n",
       "PROD_WT           0\n",
       "BRAND_NAME        0\n",
       "Flavour           0\n",
       "dtype: int64"
      ]
     },
     "execution_count": 170,
     "metadata": {},
     "output_type": "execute_result"
    }
   ],
   "source": [
    "df.isnull().sum()"
   ]
  },
  {
   "cell_type": "markdown",
   "metadata": {},
   "source": [
    "***We can observe that dataframes are merged successfully and there are no missing values.***\n",
    "\n",
    "### Now we can export this final dataframe to a CSV file which will be used further to do anlysis and draw insights."
   ]
  },
  {
   "cell_type": "code",
   "execution_count": 169,
   "metadata": {},
   "outputs": [],
   "source": [
    "#Export the final dataframe to a CSV file which will used in the next notebook for further analysis \n",
    "\n",
    "data.to_csv(\"C:/Users/amitm/Jupyter Notebools/Quantium/Task 1/QVI_merged_data.csv\",index=False)"
   ]
  },
  {
   "cell_type": "markdown",
   "metadata": {},
   "source": [
    "***\n",
    "# Conclusion\n",
    "\n",
    "*Let's summaries what all we have done.*\n",
    "- We corrected the datatypes of the variables\n",
    "- We derived three new features from product name\n",
    "    - Brand Name\n",
    "    - Flavour\n",
    "    - Packet Size\n",
    "- Finally we merged both dataframes into a single dataframe and exported it, which will be used for further analysis\n",
    "\n",
    "**First part of Task 1 of Quantium Virtual Internship Program ends here.** Second part is in the next notebook `T 102: Data Exploration, Analysis and Insights`"
   ]
  }
 ],
 "metadata": {
  "kernelspec": {
   "display_name": "Python 3",
   "language": "python",
   "name": "python3"
  },
  "language_info": {
   "codemirror_mode": {
    "name": "ipython",
    "version": 3
   },
   "file_extension": ".py",
   "mimetype": "text/x-python",
   "name": "python",
   "nbconvert_exporter": "python",
   "pygments_lexer": "ipython3",
   "version": "3.7.6"
  }
 },
 "nbformat": 4,
 "nbformat_minor": 4
}
